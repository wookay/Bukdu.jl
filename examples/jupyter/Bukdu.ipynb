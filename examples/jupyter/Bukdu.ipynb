{
 "cells": [
  {
   "cell_type": "markdown",
   "metadata": {},
   "source": [
    "# Bukdu\n",
    "\n",
    " * https://github.com/wookay/Bukdu.jl\n",
    "\n",
    "Bukdu is a web development framework for Julia (http://julialang.org).\n",
    "\n",
    "It's influenced by Phoenix framework (http://phoenixframework.org)."
   ]
  },
  {
   "cell_type": "code",
   "execution_count": null,
   "metadata": {
    "collapsed": false
   },
   "outputs": [],
   "source": [
    "# Pkg.clone(\"https://github.com/wookay/Bukdu.jl\")"
   ]
  },
  {
   "cell_type": "code",
   "execution_count": 1,
   "metadata": {
    "collapsed": true
   },
   "outputs": [],
   "source": [
    "importall Bukdu"
   ]
  },
  {
   "cell_type": "code",
   "execution_count": 2,
   "metadata": {
    "collapsed": true
   },
   "outputs": [],
   "source": [
    "struct WelcomeController <: ApplicationController\n",
    "end"
   ]
  },
  {
   "cell_type": "code",
   "execution_count": 3,
   "metadata": {
    "collapsed": false
   },
   "outputs": [
    {
     "data": {
      "text/plain": [
       "index (generic function with 1 method)"
      ]
     },
     "execution_count": 3,
     "metadata": {},
     "output_type": "execute_result"
    }
   ],
   "source": [
    "index(::WelcomeController) = \"Hello Bukdu\""
   ]
  },
  {
   "cell_type": "code",
   "execution_count": 4,
   "metadata": {
    "collapsed": true
   },
   "outputs": [],
   "source": [
    "Router() do\n",
    "    get(\"/\", WelcomeController, index)\n",
    "end"
   ]
  },
  {
   "cell_type": "code",
   "execution_count": 5,
   "metadata": {
    "collapsed": false
   },
   "outputs": [
    {
     "name": "stdout",
     "output_type": "stream",
     "text": [
      "\u001b[32mINFO \u001b[0m Listening on \u001b[1mhttp://127.0.0.1:8080\u001b[0m\n"
     ]
    }
   ],
   "source": [
    "Bukdu.start(8080)"
   ]
  },
  {
   "cell_type": "markdown",
   "metadata": {},
   "source": [
    "open in browser: http://localhost:8080/"
   ]
  },
  {
   "cell_type": "markdown",
   "metadata": {},
   "source": [
    " "
   ]
  },
  {
   "cell_type": "code",
   "execution_count": 6,
   "metadata": {
    "collapsed": false
   },
   "outputs": [
    {
     "data": {
      "text/plain": [
       "index (generic function with 1 method)"
      ]
     },
     "execution_count": 6,
     "metadata": {},
     "output_type": "execute_result"
    }
   ],
   "source": [
    "index(::WelcomeController) = render(Markdown, \"# Hello Markdown\")"
   ]
  },
  {
   "cell_type": "markdown",
   "metadata": {},
   "source": [
    "open in browser: http://localhost:8080/"
   ]
  },
  {
   "cell_type": "markdown",
   "metadata": {},
   "source": [
    " "
   ]
  },
  {
   "cell_type": "code",
   "execution_count": 7,
   "metadata": {
    "collapsed": false
   },
   "outputs": [
    {
     "data": {
      "text/plain": [
       "index (generic function with 1 method)"
      ]
     },
     "execution_count": 7,
     "metadata": {},
     "output_type": "execute_result"
    }
   ],
   "source": [
    "index(::WelcomeController) = render(JSON, [\"Hello\", \"JSON\"])"
   ]
  },
  {
   "cell_type": "markdown",
   "metadata": {},
   "source": [
    "```sh\n",
    "$ curl -v http://localhost:8080/\n",
    "*   Trying ::1...\n",
    "* TCP_NODELAY set\n",
    "* Connection failed\n",
    "* connect to ::1 port 8080 failed: Connection refused\n",
    "*   Trying 127.0.0.1...\n",
    "* TCP_NODELAY set\n",
    "* Connected to localhost (127.0.0.1) port 8080 (#0)\n",
    "> GET / HTTP/1.1\n",
    "> Host: localhost:8080\n",
    "> User-Agent: curl/7.51.0\n",
    "> Accept: */*\n",
    ">\n",
    "< HTTP/1.1 200 OK\n",
    "< Connection: keep-alive\n",
    "< Content-Length: 16\n",
    "< Content-Type: application/json\n",
    "< Date: Wed, 15 Mar 2017 06:55:31\n",
    "< Content-Language: en\n",
    "< Server: Bukdu (commit 422037f) with Julia 0.6.0-pre.alpha.140\n",
    "<\n",
    "* Curl_http_done: called premature == 0\n",
    "* Connection #0 to host localhost left intact\n",
    "[\"Hello\",\"JSON\"]%\n",
    "```"
   ]
  },
  {
   "cell_type": "code",
   "execution_count": 8,
   "metadata": {
    "collapsed": false
   },
   "outputs": [
    {
     "name": "stdout",
     "output_type": "stream",
     "text": [
      "\u001b[36mDEBUG\u001b[0m  GET \u001b[1m/                                  \u001b[0m index(::WelcomeController)\n"
     ]
    }
   ],
   "source": [
    "Endpoint() do\n",
    "    plug(Plug.Logger)\n",
    "    plug(Router)\n",
    "end"
   ]
  },
  {
   "cell_type": "markdown",
   "metadata": {},
   "source": [
    "open in browser: http://localhost:8080/"
   ]
  },
  {
   "cell_type": "markdown",
   "metadata": {},
   "source": [
    " "
   ]
  },
  {
   "cell_type": "code",
   "execution_count": 9,
   "metadata": {
    "collapsed": false
   },
   "outputs": [
    {
     "name": "stdout",
     "output_type": "stream",
     "text": [
      "\u001b[32mINFO \u001b[0m Stopped (8080)\n"
     ]
    }
   ],
   "source": [
    "Bukdu.stop()"
   ]
  }
 ],
 "metadata": {
  "kernelspec": {
   "display_name": "Julia 0.6.0-dev",
   "language": "julia",
   "name": "julia-0.6"
  },
  "language_info": {
   "file_extension": ".jl",
   "mimetype": "application/julia",
   "name": "julia",
   "version": "0.6.0"
  },
  "widgets": {
   "state": {},
   "version": "1.1.2"
  }
 },
 "nbformat": 4,
 "nbformat_minor": 0
}
